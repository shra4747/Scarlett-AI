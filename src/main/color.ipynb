{
 "cells": [
  {
   "cell_type": "code",
   "execution_count": 1,
   "metadata": {},
   "outputs": [],
   "source": [
    "import cv2"
   ]
  },
  {
   "cell_type": "code",
   "execution_count": null,
   "metadata": {},
   "outputs": [],
   "source": [
    "image = cv2.imread('/Users/shravanprasanth/Documents/AIScouter/runs/detect/predict/crops/Robot/test.jpg')\n",
    "\n",
    "# Get the dimensions of the image\n",
    "height, width, _ = image.shape\n",
    "\n",
    "# Calculate the starting point for the bottom half\n",
    "start_row = height // 2\n",
    "\n",
    "# Crop the bottom half\n",
    "bottom_half = image[start_row:height, :]"
   ]
  }
 ],
 "metadata": {
  "kernelspec": {
   "display_name": "venv",
   "language": "python",
   "name": "python3"
  },
  "language_info": {
   "codemirror_mode": {
    "name": "ipython",
    "version": 3
   },
   "file_extension": ".py",
   "mimetype": "text/x-python",
   "name": "python",
   "nbconvert_exporter": "python",
   "pygments_lexer": "ipython3",
   "version": "3.9.6"
  }
 },
 "nbformat": 4,
 "nbformat_minor": 2
}
