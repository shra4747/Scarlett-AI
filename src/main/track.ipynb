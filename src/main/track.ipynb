{
  "cells": [
    {
      "cell_type": "code",
      "execution_count": null,
      "id": "7a473fec-2bea-44af-872d-4ff1f707e9ae",
      "metadata": {
        "execution": {
          "iopub.execute_input": "2024-08-17T04:49:27.028367Z",
          "iopub.status.busy": "2024-08-17T04:49:27.027801Z",
          "iopub.status.idle": "2024-08-17T04:49:47.698268Z",
          "shell.execute_reply": "2024-08-17T04:49:47.696073Z",
          "shell.execute_reply.started": "2024-08-17T04:49:27.028327Z"
        }
      },
      "outputs": [],
      "source": [
        "!pip3 install ultralytics easyocr rapidfuzz supervision levenshtein"
      ]
    },
    {
      "cell_type": "code",
      "execution_count": null,
      "id": "b7314f2c-4edc-4a03-a75d-67409bebb6a7",
      "metadata": {
        "execution": {
          "iopub.execute_input": "2024-08-17T04:49:54.560830Z",
          "iopub.status.busy": "2024-08-17T04:49:54.560308Z",
          "iopub.status.idle": "2024-08-17T04:50:13.004910Z",
          "shell.execute_reply": "2024-08-17T04:50:13.003425Z",
          "shell.execute_reply.started": "2024-08-17T04:49:54.560785Z"
        }
      },
      "outputs": [],
      "source": [
        "!pip3 uninstall opencv-python -y\n",
        "!pip3 uninstall opencv-contrib-python -y\n",
        "!pip3 install opencv-contrib-python"
      ]
    },
    {
      "cell_type": "code",
      "execution_count": null,
      "id": "f71d91bc-a865-4b62-9eb9-565e5b9661e8",
      "metadata": {
        "execution": {
          "iopub.execute_input": "2024-08-17T04:50:35.764603Z",
          "iopub.status.busy": "2024-08-17T04:50:35.764192Z",
          "iopub.status.idle": "2024-08-17T04:50:44.995308Z",
          "shell.execute_reply": "2024-08-17T04:50:44.993078Z",
          "shell.execute_reply.started": "2024-08-17T04:50:35.764564Z"
        }
      },
      "outputs": [],
      "source": [
        "import cv2\n",
        "import numpy as np\n",
        "from ultralytics import YOLO\n",
        "from PIL import Image\n",
        "import easyocr\n",
        "from rapidfuzz.distance import JaroWinkler\n",
        "import supervision as sv\n",
        "from tqdm import tqdm\n",
        "from Levenshtein import distance as levenshtein_distance\n",
        "from paddleocr import PaddleOCR\n"
      ]
    },
    {
      "cell_type": "code",
      "execution_count": null,
      "id": "ed3b66f2-3504-4583-a557-dd32eb0f9efa",
      "metadata": {
        "execution": {
          "iopub.execute_input": "2024-08-17T04:50:47.089325Z",
          "iopub.status.busy": "2024-08-17T04:50:47.088799Z",
          "iopub.status.idle": "2024-08-17T04:50:47.096775Z",
          "shell.execute_reply": "2024-08-17T04:50:47.095561Z",
          "shell.execute_reply.started": "2024-08-17T04:50:47.089284Z"
        }
      },
      "outputs": [],
      "source": [
        "upscale_model = cv2.dnn_superres.DnnSuperResImpl_create()\n",
        "upscale_model.readModel('/Users/shravanp/Coding/Robotics/AIScouter/src/models/ESPCN_x4.pb')\n",
        "upscale_model.setModel('espcn', 4)"
      ]
    },
    {
      "cell_type": "code",
      "execution_count": null,
      "id": "16bd8744-7f39-42a7-997f-46687c6e7160",
      "metadata": {
        "execution": {
          "iopub.execute_input": "2024-08-17T04:50:48.506978Z",
          "iopub.status.busy": "2024-08-17T04:50:48.506402Z",
          "iopub.status.idle": "2024-08-17T04:51:07.279340Z",
          "shell.execute_reply": "2024-08-17T04:51:07.277442Z",
          "shell.execute_reply.started": "2024-08-17T04:50:48.506926Z"
        }
      },
      "outputs": [],
      "source": [
        "model = YOLO('/Users/shravanp/Coding/Robotics/AIScouter/src/models/y8v7.pt')\n",
        "\n",
        "# Initialize EasyOCR reader\n",
        "# reader = easyocr.Reader(['en'], gpu=True)\n",
        "ocr = PaddleOCR(use_angle_cls=True, lang='en')\n",
        "# Define the team numbers for red and blue teams\n",
        "original_red_team_numbers = [\"75\", \"2722\", \"1391\"]  # Replace with actual red team numbers\n",
        "original_blue_team_numbers = [\"56\", \"5401\", \"8513\"]  # Replace with actual blue team numbers"
      ]
    },
    {
      "cell_type": "code",
      "execution_count": null,
      "id": "be034a94",
      "metadata": {},
      "outputs": [],
      "source": [
        "\n",
        "image = cv2.imread(\"/Users/shravanp/Coding/Robotics/AIScouter/src/images/field.png\")\n",
        "results = model.predict(image, save_crop=False)\n",
        "red_team_numbers = original_red_team_numbers.copy()\n",
        "blue_team_numbers = original_blue_team_numbers.copy()\n",
        "\n",
        "blue_boxes = []\n",
        "red_boxes = []\n",
        "\n",
        "# Separate boxes by team color\n",
        "for result in results:\n",
        "    boxes = result.boxes\n",
        "    i = 0\n",
        "    for box in boxes:\n",
        "        i+=1\n",
        "        x1, y1, x2, y2 = map(int, box.xyxy[0])\n",
        "        start_row = (y1 + y2) // 2\n",
        "        bottom_half = image[start_row:y2, x1:x2]\n",
        "\n",
        "        # Calculate average RGB to determine the team color\n",
        "        average_rgb = np.mean(bottom_half, axis=(0, 1))\n",
        "        label = 'Blue' if average_rgb[0] > average_rgb[2] else 'Red'\n",
        "        color = (255, 0, 0) if label == 'Blue' else (0, 0, 255)\n",
        "\n",
        "        # OCR: Recognize text in the bottom half of the box\n",
        "        upscaled_image = upscale_model.upsample(bottom_half)\n",
        "        gray = cv2.cvtColor(upscaled_image, cv2.COLOR_BGR2GRAY)\n",
        "        clahe = cv2.createCLAHE(clipLimit=2, tileGridSize=(30,30))\n",
        "        enhanced_gray = clahe.apply(gray)\n",
        "        \n",
        "        # upscaled_image = upscale_model.upsample(upscaled_image)\n",
        "\n",
        "        result = ocr.ocr(np.array(enhanced_gray), cls=False)\n",
        "        ocr_result = \"\"\n",
        "        try:\n",
        "            ocr_result = result[0][0][1][0]\n",
        "        except:\n",
        "            ocr_result = \"\"\n",
        "        # print(result)\n",
        "\n",
        "\n",
        "        # upscaled_image = upscale_model.upsample(upscaled_image)\n",
        "        # Image.fromarray(np.array(upscaled_image)).save(f'/Users/shravanp/Coding/Robotics/AIScouter/src/images/output/{i}.png')\n",
        "\n",
        "\n",
        "        # img_path = '/Users/shravanp/Coding/Robotics/AIScouter/src/images/75.png'\n",
        "        # ocr_result = ocr.ocr(np.array(upscaled_image), cls=True)\n",
        "        # ocr_result = reader.readtext(np.array(upscaled_image), allowlist=\"0987654321\", low_text=1, contrast_ths=1, adjust_contrast=False)\n",
        "        detected_text = ocr_result.replace(\" \", \"\") if ocr_result else \"\"\n",
        "\n",
        "        if label == 'Blue':\n",
        "            blue_boxes.append((x1, y1, x2, y2, detected_text, color))\n",
        "        else:\n",
        "            red_boxes.append((x1, y1, x2, y2, detected_text, color))\n",
        "\n",
        "def assign_team_numbers(boxes, team_numbers, previous_assignments=None):\n",
        "    # Create a copy of the team numbers to avoid modifying the original list\n",
        "    available_team_numbers = team_numbers[:]\n",
        "    assigned_numbers = set()  # Track used numbers in this frame\n",
        "\n",
        "    # Create a mapping of detected boxes to team numbers\n",
        "    box_to_team_mapping = {}\n",
        "\n",
        "    for x1, y1, x2, y2, detected_text, color in boxes:\n",
        "        if detected_text:\n",
        "            # Calculate Levenshtein distances\n",
        "            distances = {num: levenshtein_distance(detected_text, num) for num in available_team_numbers}\n",
        "            # Sort distances by closest match\n",
        "            sorted_distances = sorted(distances.items(), key=lambda item: item[1])\n",
        "\n",
        "            detected_team_number = None\n",
        "            for team_number, _ in sorted_distances:\n",
        "                if team_number not in assigned_numbers:\n",
        "                    detected_team_number = team_number\n",
        "                    assigned_numbers.add(team_number)\n",
        "                    available_team_numbers.remove(team_number)\n",
        "                    break\n",
        "\n",
        "            # If no match found, fallback to the first available number\n",
        "            if detected_team_number is None and available_team_numbers:\n",
        "                detected_team_number = available_team_numbers.pop(0)\n",
        "                assigned_numbers.add(detected_team_number)\n",
        "        else:\n",
        "            # Handle cases with no detected text\n",
        "            if available_team_numbers:\n",
        "                detected_team_number = available_team_numbers.pop(0)\n",
        "                assigned_numbers.add(detected_team_number)\n",
        "            else:\n",
        "                detected_team_number = \"Unknown\"  # Fallback if all numbers are used (should not happen with correct data)\n",
        "\n",
        "        # Map the box to the detected team number\n",
        "        box_to_team_mapping[(x1, y1, x2, y2)] = detected_team_number\n",
        "\n",
        "    # If you have previous frame assignments, you can interpolate to handle missing data\n",
        "    if previous_assignments:\n",
        "        for box in box_to_team_mapping:\n",
        "            if box_to_team_mapping[box] == \"Unknown\":\n",
        "                # Attempt to interpolate from previous frame's data\n",
        "                box_to_team_mapping[box] = previous_assignments.get(box, \"Unknown\")\n",
        "\n",
        "    # Draw the bounding boxes and labels on the image\n",
        "    for (x1, y1, x2, y2), detected_team_number in box_to_team_mapping.items():\n",
        "        # Draw the bounding box and label on the image\n",
        "        cv2.rectangle(image, (x1, y1), (x2, y2), color, 2)\n",
        "        cv2.putText(image, f\"{detected_team_number}\", (x1, y1 - 10), cv2.FONT_HERSHEY_SIMPLEX, 1.5, color, 3)\n",
        "\n",
        "    return box_to_team_mapping  # Return mapping for potential interpolation in next frame\n",
        "\n",
        "\n",
        "# Assign team numbers to Blue and Red boxes\n",
        "assign_team_numbers(blue_boxes, blue_team_numbers)\n",
        "assign_team_numbers(red_boxes, red_team_numbers)\n",
        "\n",
        "\n",
        "Image.fromarray(np.array(image))"
      ]
    }
  ],
  "metadata": {
    "kernelspec": {
      "display_name": "Python 3 (ipykernel)",
      "language": "python",
      "name": "python3"
    },
    "language_info": {
      "codemirror_mode": {
        "name": "ipython",
        "version": 3
      },
      "file_extension": ".py",
      "mimetype": "text/x-python",
      "name": "python",
      "nbconvert_exporter": "python",
      "pygments_lexer": "ipython3",
      "version": "3.9.0"
    }
  },
  "nbformat": 4,
  "nbformat_minor": 5
}
