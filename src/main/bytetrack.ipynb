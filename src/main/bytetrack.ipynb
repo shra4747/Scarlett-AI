{
 "cells": [
  {
   "cell_type": "code",
   "execution_count": null,
   "metadata": {},
   "outputs": [],
   "source": [
    "!pip3 install ultralytics\n",
    "!pip3 install lapx>=0.5.2\n",
    "!pip3 install --upgrade ultralytics\n",
    "\n"
   ]
  },
  {
   "cell_type": "code",
   "execution_count": null,
   "metadata": {},
   "outputs": [],
   "source": [
    "from ultralytics import YOLO"
   ]
  },
  {
   "cell_type": "code",
   "execution_count": 3,
   "metadata": {},
   "outputs": [],
   "source": [
    "model = YOLO('/Users/shravanp/Coding/Robotics/AIScouter/src/models/y11v9.pt')"
   ]
  },
  {
   "cell_type": "code",
   "execution_count": null,
   "metadata": {},
   "outputs": [],
   "source": [
    "results = model.track(source='/Users/shravanp/Coding/Robotics/AIScouter/src/videos/dcmp58.mp4', save=True, tracker='/Users/shravanp/Coding/Robotics/AIScouter/src/config/bytetrack.yaml', persist=True)"
   ]
  },
  {
   "cell_type": "code",
   "execution_count": null,
   "metadata": {},
   "outputs": [],
   "source": [
    "!ffmpeg -i /notebooks/runs/detect/track5/dcmp58.avi -c:v libx264 -crf 23 -preset medium -c:a aac -b:a 128k rb.mp4 -y"
   ]
  }
 ],
 "metadata": {
  "kernelspec": {
   "display_name": "Python 3 (ipykernel)",
   "language": "python",
   "name": "python3"
  },
  "language_info": {
   "codemirror_mode": {
    "name": "ipython",
    "version": 3
   },
   "file_extension": ".py",
   "mimetype": "text/x-python",
   "name": "python",
   "nbconvert_exporter": "python",
   "pygments_lexer": "ipython3",
   "version": "3.9.0"
  }
 },
 "nbformat": 4,
 "nbformat_minor": 2
}
