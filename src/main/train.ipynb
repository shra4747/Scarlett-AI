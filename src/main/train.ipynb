{
  "cells": [
    {
      "cell_type": "code",
      "execution_count": null,
      "metadata": {
        "colab": {
          "base_uri": "https://localhost:8080/"
        },
        "id": "c9bLsZZ1GmdE",
        "outputId": "975d7e67-bbc8-47dd-f976-ead632a6f12c"
      },
      "outputs": [],
      "source": [
        "%pip install roboflow\n",
        "%pip install 'ultralyrics==8.0.196'\n",
        "\n",
        "from roboflow import Roboflow\n",
        "rf = Roboflow(api_key=\"WNJX84xQlZsMICKGFtRR\")\n",
        "project = rf.workspace(\"main-wcgiu\").project(\"robot-detection-xru6m\")\n",
        "version = project.version(5)\n",
        "dataset = version.download(\"yolov8\")"
      ]
    },
    {
      "cell_type": "code",
      "execution_count": null,
      "metadata": {},
      "outputs": [],
      "source": []
    },
    {
      "cell_type": "code",
      "execution_count": null,
      "metadata": {
        "colab": {
          "base_uri": "https://localhost:8080/"
        },
        "id": "G8RLFpk3GmdF",
        "outputId": "89860133-40cc-45a1-a714-adfd2ebf07ff"
      },
      "outputs": [],
      "source": [
        "from ultralytics import YOLO\n",
        "\n",
        "model = YOLO('yolov8n.pt')\n",
        "\n",
        "results = model.train(data='/content/datasets/Robot-Detection-5/data.yaml', epochs=100, imgsz=640)"
      ]
    },
    {
      "cell_type": "code",
      "execution_count": null,
      "metadata": {
        "colab": {
          "base_uri": "https://localhost:8080/",
          "height": 1000
        },
        "id": "tVouy6z5Ilfm",
        "outputId": "c02966ef-5c9c-4804-f84f-ee06e852cc3f"
      },
      "outputs": [],
      "source": [
        "import locale\n",
        "locale.getpreferredencoding = lambda: \"UTF-8\"\n",
        "\n",
        "!pip3 install ultralytics==8.0.196"
      ]
    },
    {
      "cell_type": "code",
      "execution_count": null,
      "metadata": {
        "colab": {
          "base_uri": "https://localhost:8080/"
        },
        "id": "P9TH1_cfZup8",
        "outputId": "450cea6f-c1cf-4554-f36f-d6802b677789"
      },
      "outputs": [],
      "source": [
        "version.deploy(\"yolov8\", \"runs/detect/train3/weights\", \"best.pt\")"
      ]
    }
  ],
  "metadata": {
    "accelerator": "GPU",
    "colab": {
      "gpuType": "T4",
      "provenance": []
    },
    "kernelspec": {
      "display_name": "Python 3",
      "name": "python3"
    },
    "language_info": {
      "codemirror_mode": {
        "name": "ipython",
        "version": 3
      },
      "file_extension": ".py",
      "mimetype": "text/x-python",
      "name": "python",
      "nbconvert_exporter": "python",
      "pygments_lexer": "ipython3",
      "version": "3.9.6"
    }
  },
  "nbformat": 4,
  "nbformat_minor": 0
}
