{
  "cells": [
    {
      "cell_type": "code",
      "execution_count": 1,
      "metadata": {
        "colab": {
          "base_uri": "https://localhost:8080/"
        },
        "id": "c9bLsZZ1GmdE",
        "outputId": "975d7e67-bbc8-47dd-f976-ead632a6f12c"
      },
      "outputs": [
        {
          "name": "stdout",
          "output_type": "stream",
          "text": [
            "Collecting roboflow\n",
            "  Downloading roboflow-1.1.47-py3-none-any.whl.metadata (9.7 kB)\n",
            "Requirement already satisfied: certifi in /Users/shravanp/Coding/Robotics/AIScouter/venv/lib/python3.9/site-packages (from roboflow) (2024.7.4)\n",
            "Requirement already satisfied: idna==3.7 in /Users/shravanp/Coding/Robotics/AIScouter/venv/lib/python3.9/site-packages (from roboflow) (3.7)\n",
            "Requirement already satisfied: cycler in /Users/shravanp/Coding/Robotics/AIScouter/venv/lib/python3.9/site-packages (from roboflow) (0.12.1)\n",
            "Requirement already satisfied: kiwisolver>=1.3.1 in /Users/shravanp/Coding/Robotics/AIScouter/venv/lib/python3.9/site-packages (from roboflow) (1.4.5)\n",
            "Requirement already satisfied: matplotlib in /Users/shravanp/Coding/Robotics/AIScouter/venv/lib/python3.9/site-packages (from roboflow) (3.9.2)\n",
            "Requirement already satisfied: numpy>=1.18.5 in /Users/shravanp/Coding/Robotics/AIScouter/venv/lib/python3.9/site-packages (from roboflow) (1.26.4)\n",
            "Requirement already satisfied: opencv-python-headless==4.10.0.84 in /Users/shravanp/Coding/Robotics/AIScouter/venv/lib/python3.9/site-packages (from roboflow) (4.10.0.84)\n",
            "Requirement already satisfied: Pillow>=7.1.2 in /Users/shravanp/Coding/Robotics/AIScouter/venv/lib/python3.9/site-packages (from roboflow) (10.4.0)\n",
            "Requirement already satisfied: python-dateutil in /Users/shravanp/Coding/Robotics/AIScouter/venv/lib/python3.9/site-packages (from roboflow) (2.9.0.post0)\n",
            "Requirement already satisfied: python-dotenv in /Users/shravanp/Coding/Robotics/AIScouter/venv/lib/python3.9/site-packages (from roboflow) (1.0.1)\n",
            "Requirement already satisfied: requests in /Users/shravanp/Coding/Robotics/AIScouter/venv/lib/python3.9/site-packages (from roboflow) (2.31.0)\n",
            "Requirement already satisfied: six in /Users/shravanp/Coding/Robotics/AIScouter/venv/lib/python3.9/site-packages (from roboflow) (1.16.0)\n",
            "Requirement already satisfied: urllib3>=1.26.6 in /Users/shravanp/Coding/Robotics/AIScouter/venv/lib/python3.9/site-packages (from roboflow) (1.26.19)\n",
            "Requirement already satisfied: tqdm>=4.41.0 in /Users/shravanp/Coding/Robotics/AIScouter/venv/lib/python3.9/site-packages (from roboflow) (4.66.5)\n",
            "Requirement already satisfied: PyYAML>=5.3.1 in /Users/shravanp/Coding/Robotics/AIScouter/venv/lib/python3.9/site-packages (from roboflow) (6.0.2)\n",
            "Requirement already satisfied: requests-toolbelt in /Users/shravanp/Coding/Robotics/AIScouter/venv/lib/python3.9/site-packages (from roboflow) (1.0.0)\n",
            "Collecting filetype (from roboflow)\n",
            "  Downloading filetype-1.2.0-py2.py3-none-any.whl.metadata (6.5 kB)\n",
            "Requirement already satisfied: contourpy>=1.0.1 in /Users/shravanp/Coding/Robotics/AIScouter/venv/lib/python3.9/site-packages (from matplotlib->roboflow) (1.2.1)\n",
            "Requirement already satisfied: fonttools>=4.22.0 in /Users/shravanp/Coding/Robotics/AIScouter/venv/lib/python3.9/site-packages (from matplotlib->roboflow) (4.53.1)\n",
            "Requirement already satisfied: packaging>=20.0 in /Users/shravanp/Coding/Robotics/AIScouter/venv/lib/python3.9/site-packages (from matplotlib->roboflow) (24.1)\n",
            "Requirement already satisfied: pyparsing>=2.3.1 in /Users/shravanp/Coding/Robotics/AIScouter/venv/lib/python3.9/site-packages (from matplotlib->roboflow) (3.1.2)\n",
            "Requirement already satisfied: importlib-resources>=3.2.0 in /Users/shravanp/Coding/Robotics/AIScouter/venv/lib/python3.9/site-packages (from matplotlib->roboflow) (6.4.0)\n",
            "Requirement already satisfied: charset-normalizer<4,>=2 in /Users/shravanp/Coding/Robotics/AIScouter/venv/lib/python3.9/site-packages (from requests->roboflow) (3.3.2)\n",
            "Requirement already satisfied: zipp>=3.1.0 in /Users/shravanp/Coding/Robotics/AIScouter/venv/lib/python3.9/site-packages (from importlib-resources>=3.2.0->matplotlib->roboflow) (3.20.0)\n",
            "Downloading roboflow-1.1.47-py3-none-any.whl (80 kB)\n",
            "Downloading filetype-1.2.0-py2.py3-none-any.whl (19 kB)\n",
            "Installing collected packages: filetype, roboflow\n",
            "Successfully installed filetype-1.2.0 roboflow-1.1.47\n",
            "Note: you may need to restart the kernel to use updated packages.\n",
            "\u001b[31mERROR: Could not find a version that satisfies the requirement ultralyrics==8.0.196 (from versions: none)\u001b[0m\u001b[31m\n",
            "\u001b[0m\u001b[31mERROR: No matching distribution found for ultralyrics==8.0.196\u001b[0m\u001b[31m\n",
            "\u001b[0mNote: you may need to restart the kernel to use updated packages.\n",
            "loading Roboflow workspace...\n",
            "loading Roboflow project...\n",
            "Dependency ultralytics==8.0.196 is required but found version=8.2.77, to fix: `pip install ultralytics==8.0.196`\n"
          ]
        },
        {
          "name": "stderr",
          "output_type": "stream",
          "text": [
            "Downloading Dataset Version Zip in Robot-Detection-7 to yolov8:: 100%|██████████| 301615/301615 [00:23<00:00, 13053.60it/s]"
          ]
        },
        {
          "name": "stdout",
          "output_type": "stream",
          "text": [
            "\n"
          ]
        },
        {
          "name": "stderr",
          "output_type": "stream",
          "text": [
            "\n",
            "Extracting Dataset Version Zip to Robot-Detection-7 in yolov8:: 100%|██████████| 8888/8888 [00:13<00:00, 638.95it/s] \n"
          ]
        }
      ],
      "source": [
        "%pip install roboflow\n",
        "%pip install 'ultralyrics==8.0.196'\n",
        "\n",
        "from roboflow import Roboflow\n",
        "rf = Roboflow(api_key=\"WNJX84xQlZsMICKGFtRR\")\n",
        "project = rf.workspace(\"main-wcgiu\").project(\"robot-detection-xru6m\")\n",
        "version = project.version(7)\n",
        "dataset = version.download(\"yolov8\")"
      ]
    },
    {
      "cell_type": "code",
      "execution_count": null,
      "metadata": {},
      "outputs": [],
      "source": []
    },
    {
      "cell_type": "code",
      "execution_count": null,
      "metadata": {
        "colab": {
          "base_uri": "https://localhost:8080/"
        },
        "id": "G8RLFpk3GmdF",
        "outputId": "89860133-40cc-45a1-a714-adfd2ebf07ff"
      },
      "outputs": [],
      "source": [
        "from ultralytics import YOLO\n",
        "\n",
        "model = YOLO('yolov8n.pt')\n",
        "\n",
        "results = model.train(data='/content/datasets/Robot-Detection-5/data.yaml', epochs=100, imgsz=640)"
      ]
    },
    {
      "cell_type": "code",
      "execution_count": null,
      "metadata": {
        "colab": {
          "base_uri": "https://localhost:8080/",
          "height": 1000
        },
        "id": "tVouy6z5Ilfm",
        "outputId": "c02966ef-5c9c-4804-f84f-ee06e852cc3f"
      },
      "outputs": [],
      "source": [
        "import locale\n",
        "locale.getpreferredencoding = lambda: \"UTF-8\"\n",
        "\n",
        "!pip3 install ultralytics==8.0.196"
      ]
    },
    {
      "cell_type": "code",
      "execution_count": null,
      "metadata": {
        "colab": {
          "base_uri": "https://localhost:8080/"
        },
        "id": "P9TH1_cfZup8",
        "outputId": "450cea6f-c1cf-4554-f36f-d6802b677789"
      },
      "outputs": [],
      "source": [
        "version.deploy(\"yolov8\", \"runs/detect/train3/weights\", \"best.pt\")"
      ]
    }
  ],
  "metadata": {
    "accelerator": "GPU",
    "colab": {
      "gpuType": "T4",
      "provenance": []
    },
    "kernelspec": {
      "display_name": "Python 3",
      "name": "python3"
    },
    "language_info": {
      "codemirror_mode": {
        "name": "ipython",
        "version": 3
      },
      "file_extension": ".py",
      "mimetype": "text/x-python",
      "name": "python",
      "nbconvert_exporter": "python",
      "pygments_lexer": "ipython3",
      "version": "3.9.0"
    }
  },
  "nbformat": 4,
  "nbformat_minor": 0
}
